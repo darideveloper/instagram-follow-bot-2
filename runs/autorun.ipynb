{
 "cells": [
  {
   "cell_type": "code",
   "execution_count": null,
   "metadata": {},
   "outputs": [],
   "source": [
    "# Import modules from parent folder\n",
    "import os\n",
    "import sys\n",
    "parent_folder = os.path.abspath(os.path.join(os.path.dirname(__file__), os.pardir))\n",
    "sys.path.append(parent_folder)"
   ]
  },
  {
   "cell_type": "code",
   "execution_count": null,
   "metadata": {},
   "outputs": [],
   "source": [
    "from bot import Bot"
   ]
  },
  {
   "cell_type": "code",
   "execution_count": null,
   "metadata": {},
   "outputs": [],
   "source": [
    "try:\n",
    "    bot_instance = Bot()\n",
    "    bot_instance.auto_run ()\n",
    "except Exception as err:\n",
    "    print (f\"Error: bot stopped. Details: {err}\")\n",
    "    input (\"Press Enter to exit...\")"
   ]
  }
 ],
 "metadata": {
  "language_info": {
   "name": "python"
  },
  "orig_nbformat": 4
 },
 "nbformat": 4,
 "nbformat_minor": 2
}
